{
 "cells": [
  {
   "cell_type": "code",
   "execution_count": 1,
   "metadata": {},
   "outputs": [],
   "source": [
    "%matplotlib inline"
   ]
  },
  {
   "cell_type": "markdown",
   "metadata": {},
   "source": [
    "\n",
    "Display a bar's height and name on top of it upon hovering\n",
    "==========================================================\n",
    "\n",
    "Using an event handler to change the annotation text and position.\n",
    "\n"
   ]
  },
  {
   "cell_type": "code",
   "execution_count": 2,
   "metadata": {},
   "outputs": [
    {
     "data": {
      "image/png": "[encoded data removed]",
      "text/plain": [
       "<Figure size 432x288 with 1 Axes>"
      ]
     },
     "metadata": {
      "needs_background": "light"
     },
     "output_type": "display_data"
    }
   ],
   "source": [
    "import string\n",
    "import matplotlib.pyplot as plt\n",
    "import mplcursors\n",
    "\n",
    "fig, ax = plt.subplots()\n",
    "ax.bar(range(9), range(1, 10), align=\"center\")\n",
    "labels = string.ascii_uppercase[:9]\n",
    "ax.set(xticks=range(9), xticklabels=labels, title=\"Hover over a bar\")\n",
    "\n",
    "cursor = mplcursors.cursor(hover=True)\n",
    "@cursor.connect(\"add\")\n",
    "def on_add(sel):\n",
    "    x, y, width, height = sel.artist[sel.target.index].get_bbox().bounds\n",
    "    sel.annotation.set(\n",
    "        text=\"{}: {}\".format(x + width / 2, height),\n",
    "        position=(0, 20))\n",
    "    sel.annotation.xy = (x + width / 2, y + height)\n",
    "\n",
    "plt.show()"
   ]
  },
  {
   "cell_type": "code",
   "execution_count": null,
   "metadata": {},
   "outputs": [],
   "source": []
  }
 ],
 "metadata": {
  "kernelspec": {
   "display_name": "Python 3",
   "language": "python",
   "name": "python3"
  },
  "language_info": {
   "codemirror_mode": {
    "name": "ipython",
    "version": 3
   },
   "file_extension": ".py",
   "mimetype": "text/x-python",
   "name": "python",
   "nbconvert_exporter": "python",
   "pygments_lexer": "ipython3",
   "version": "3.7.0"
  }
 },
 "nbformat": 4,
 "nbformat_minor": 2
}
