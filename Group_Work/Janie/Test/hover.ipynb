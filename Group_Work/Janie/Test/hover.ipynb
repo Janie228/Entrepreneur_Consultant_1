{
 "cells": [
  {
   "cell_type": "code",
   "execution_count": 1,
   "metadata": {},
   "outputs": [],
   "source": [
    "%matplotlib inline"
   ]
  },
  {
   "cell_type": "markdown",
   "metadata": {},
   "source": [
    "\n",
    "Annotate on hover\n",
    "=================\n",
    "\n",
    "When ``hover`` is set to ``True``, annotations are displayed when the mouse\n",
    "hovers over the artist, without the need for clicking.\n",
    "\n"
   ]
  },
  {
   "cell_type": "code",
   "execution_count": 2,
   "metadata": {},
   "outputs": [],
   "source": [
    "import matplotlib.pyplot as plt\n",
    "import numpy as np\n",
    "import mplcursors\n",
    "import io\n",
    "import sys\n",
    "import pandas as pd\n",
    "from mpldatacursor import datacursor\n",
    "import matplotlib.cm as cm\n",
    "import numpy as np\n",
    "import string\n"
   ]
  },
  {
   "cell_type": "code",
   "execution_count": 3,
   "metadata": {},
   "outputs": [
    {
     "data": {
      "image/png": "[encoded data removed]",
      "text/plain": [
       "<Figure size 432x288 with 1 Axes>"
      ]
     },
     "metadata": {
      "needs_background": "light"
     },
     "output_type": "display_data"
    }
   ],
   "source": [
    "pd.options.mode.chained_assignment = None  # default='warn'\n",
    "np.random.seed(42)\n",
    "\n",
    "fig, ax = plt.subplots()\n",
    "ax.scatter(*np.random.random((2, 26)))\n",
    "ax.set_title(\"Mouse over a point\")\n",
    "\n",
    "mplcursors.cursor(hover=True)\n",
    "\n",
    "\n",
    "plt.show()"
   ]
  },
  {
   "cell_type": "code",
   "execution_count": 4,
   "metadata": {},
   "outputs": [
    {
     "name": "stderr",
     "output_type": "stream",
     "text": [
      "C:\\Users\\Janie228\\Anaconda3\\lib\\site-packages\\ipykernel_launcher.py:10: FutureWarning: convert_objects is deprecated.  To re-infer data dtypes for object columns, use DataFrame.infer_objects()\n",
      "For all other conversions use the data-type specific converters pd.to_datetime, pd.to_timedelta and pd.to_numeric.\n",
      "  # Remove the CWD from sys.path while we load stuff.\n"
     ]
    },
    {
     "data": {
      "image/png": "[encoded data removed]",
      "text/plain": [
       "<Figure size 432x288 with 1 Axes>"
      ]
     },
     "metadata": {
      "needs_background": "light"
     },
     "output_type": "display_data"
    },
    {
     "data": {
      "text/html": [
       "<div>\n",
       "<style scoped>\n",
       "    .dataframe tbody tr th:only-of-type {\n",
       "        vertical-align: middle;\n",
       "    }\n",
       "\n",
       "    .dataframe tbody tr th {\n",
       "        vertical-align: top;\n",
       "    }\n",
       "\n",
       "    .dataframe thead th {\n",
       "        text-align: right;\n",
       "    }\n",
       "</style>\n",
       "<table border=\"1\" class=\"dataframe\">\n",
       "  <thead>\n",
       "    <tr style=\"text-align: right;\">\n",
       "      <th></th>\n",
       "      <th>A</th>\n",
       "      <th>B</th>\n",
       "      <th>C</th>\n",
       "      <th>D</th>\n",
       "      <th>E</th>\n",
       "      <th>F</th>\n",
       "      <th>G</th>\n",
       "      <th>H</th>\n",
       "      <th>I</th>\n",
       "      <th>J</th>\n",
       "      <th>K</th>\n",
       "      <th>KG</th>\n",
       "    </tr>\n",
       "  </thead>\n",
       "  <tbody>\n",
       "    <tr>\n",
       "      <th>0</th>\n",
       "      <td>931</td>\n",
       "      <td>Oxfordshire</td>\n",
       "      <td>9314125</td>\n",
       "      <td>123255</td>\n",
       "      <td>Larkmead School</td>\n",
       "      <td>Abingdon</td>\n",
       "      <td>125</td>\n",
       "      <td>124</td>\n",
       "      <td>20.0</td>\n",
       "      <td>3.0</td>\n",
       "      <td>8</td>\n",
       "      <td>0.064000</td>\n",
       "    </tr>\n",
       "    <tr>\n",
       "      <th>1</th>\n",
       "      <td>931</td>\n",
       "      <td>Oxfordshire</td>\n",
       "      <td>9314126</td>\n",
       "      <td>123256</td>\n",
       "      <td>John Mason School</td>\n",
       "      <td>Abingdon</td>\n",
       "      <td>164</td>\n",
       "      <td>164</td>\n",
       "      <td>25.0</td>\n",
       "      <td>6.0</td>\n",
       "      <td>16</td>\n",
       "      <td>0.097561</td>\n",
       "    </tr>\n",
       "    <tr>\n",
       "      <th>2</th>\n",
       "      <td>931</td>\n",
       "      <td>Oxfordshire</td>\n",
       "      <td>9314127</td>\n",
       "      <td>123257</td>\n",
       "      <td>Fitzharrys School</td>\n",
       "      <td>Abingdon</td>\n",
       "      <td>150</td>\n",
       "      <td>149</td>\n",
       "      <td>9.0</td>\n",
       "      <td>0.0</td>\n",
       "      <td>11</td>\n",
       "      <td>0.073333</td>\n",
       "    </tr>\n",
       "    <tr>\n",
       "      <th>3</th>\n",
       "      <td>931</td>\n",
       "      <td>Oxfordshire</td>\n",
       "      <td>9316076</td>\n",
       "      <td>123298</td>\n",
       "      <td>Our Lady's Abingdon</td>\n",
       "      <td>Abingdon</td>\n",
       "      <td>57</td>\n",
       "      <td>57</td>\n",
       "      <td>3.0</td>\n",
       "      <td>3.0</td>\n",
       "      <td>16</td>\n",
       "      <td>0.280702</td>\n",
       "    </tr>\n",
       "  </tbody>\n",
       "</table>\n",
       "</div>"
      ],
      "text/plain": [
       "     A            B        C       D                    E         F    G    H  \\\n",
       "0  931  Oxfordshire  9314125  123255      Larkmead School  Abingdon  125  124   \n",
       "1  931  Oxfordshire  9314126  123256    John Mason School  Abingdon  164  164   \n",
       "2  931  Oxfordshire  9314127  123257    Fitzharrys School  Abingdon  150  149   \n",
       "3  931  Oxfordshire  9316076  123298  Our Lady's Abingdon  Abingdon   57   57   \n",
       "\n",
       "      I    J   K        KG  \n",
       "0  20.0  3.0   8  0.064000  \n",
       "1  25.0  6.0  16  0.097561  \n",
       "2   9.0  0.0  11  0.073333  \n",
       "3   3.0  3.0  16  0.280702  "
      ]
     },
     "execution_count": 4,
     "metadata": {},
     "output_type": "execute_result"
    }
   ],
   "source": [
    "\n",
    "f = io.StringIO(\n",
    "\"\"\"931,Oxfordshire,9314125,123255,Larkmead School,Abingdon,125,124,20,SUPP,8\n",
    "931,Oxfordshire,9314126,123256,John Mason School,Abingdon,164,164,25,6,16\n",
    "931,Oxfordshire,9314127,123257,Fitzharrys School,Abingdon,150,149,9,0,11\n",
    "931,Oxfordshire,9316076,123298,Our Lady's Abingdon,Abingdon,57,57,SUPP,SUPP,16\n",
    "\"\"\")\n",
    "df = pd.read_csv(f, names=['A','B','C','D','E','F','G', 'H','I','J', 'K'], header=None)\n",
    "df.replace('SUPP', 3.0, inplace=True)\n",
    "df = df.convert_objects(convert_numeric=True)\n",
    "df['KG'] = df['K']*1.0/df['G']\n",
    "plt.plot(df['KG'], marker='o' )\n",
    "\n",
    "\n",
    "\n",
    "datacursor(hover=True, point_labels=df['E'], draggable=True)\n",
    "# datacursor(l, hover=True, point_labels=df['E'], formatter=lambda **kwargs: kwargs['point_label'][0])\n",
    "# a white box with a fancier arrow and a different relative position\n",
    "# datacursor(l, hover=True, point_labels=df['E'], bbox=dict(fc='white'), formatter=lambda **kwargs: kwargs['point_label'][0], xytext=(0, 25), arrowprops=dict(arrowstyle='simple', fc='white', alpha=0.5))\n",
    "\n",
    "plt.show()\n",
    "df"
   ]
  },
  {
   "cell_type": "code",
   "execution_count": null,
   "metadata": {},
   "outputs": [],
   "source": []
  },
  {
   "cell_type": "code",
   "execution_count": 5,
   "metadata": {},
   "outputs": [
    {
     "data": {
      "text/html": [
       "<div>\n",
       "<style scoped>\n",
       "    .dataframe tbody tr th:only-of-type {\n",
       "        vertical-align: middle;\n",
       "    }\n",
       "\n",
       "    .dataframe tbody tr th {\n",
       "        vertical-align: top;\n",
       "    }\n",
       "\n",
       "    .dataframe thead th {\n",
       "        text-align: right;\n",
       "    }\n",
       "</style>\n",
       "<table border=\"1\" class=\"dataframe\">\n",
       "  <thead>\n",
       "    <tr style=\"text-align: right;\">\n",
       "      <th></th>\n",
       "      <th>x</th>\n",
       "      <th>y</th>\n",
       "    </tr>\n",
       "  </thead>\n",
       "  <tbody>\n",
       "    <tr>\n",
       "      <th>a</th>\n",
       "      <td>0.939499</td>\n",
       "      <td>0.828738</td>\n",
       "    </tr>\n",
       "    <tr>\n",
       "      <th>b</th>\n",
       "      <td>0.894827</td>\n",
       "      <td>0.356753</td>\n",
       "    </tr>\n",
       "    <tr>\n",
       "      <th>c</th>\n",
       "      <td>0.597900</td>\n",
       "      <td>0.280935</td>\n",
       "    </tr>\n",
       "    <tr>\n",
       "      <th>d</th>\n",
       "      <td>0.921874</td>\n",
       "      <td>0.542696</td>\n",
       "    </tr>\n",
       "    <tr>\n",
       "      <th>e</th>\n",
       "      <td>0.088493</td>\n",
       "      <td>0.140924</td>\n",
       "    </tr>\n",
       "    <tr>\n",
       "      <th>f</th>\n",
       "      <td>0.195983</td>\n",
       "      <td>0.802197</td>\n",
       "    </tr>\n",
       "    <tr>\n",
       "      <th>g</th>\n",
       "      <td>0.045227</td>\n",
       "      <td>0.074551</td>\n",
       "    </tr>\n",
       "    <tr>\n",
       "      <th>h</th>\n",
       "      <td>0.325330</td>\n",
       "      <td>0.986887</td>\n",
       "    </tr>\n",
       "    <tr>\n",
       "      <th>i</th>\n",
       "      <td>0.388677</td>\n",
       "      <td>0.772245</td>\n",
       "    </tr>\n",
       "    <tr>\n",
       "      <th>j</th>\n",
       "      <td>0.271349</td>\n",
       "      <td>0.198716</td>\n",
       "    </tr>\n",
       "  </tbody>\n",
       "</table>\n",
       "</div>"
      ],
      "text/plain": [
       "          x         y\n",
       "a  0.939499  0.828738\n",
       "b  0.894827  0.356753\n",
       "c  0.597900  0.280935\n",
       "d  0.921874  0.542696\n",
       "e  0.088493  0.140924\n",
       "f  0.195983  0.802197\n",
       "g  0.045227  0.074551\n",
       "h  0.325330  0.986887\n",
       "i  0.388677  0.772245\n",
       "j  0.271349  0.198716"
      ]
     },
     "execution_count": 5,
     "metadata": {},
     "output_type": "execute_result"
    }
   ],
   "source": [
    "\n",
    "\n",
    "df = pd.DataFrame({'x':np.random.rand(10), 'y':np.random.rand(10)}, \n",
    "                  index=list(string.ascii_lowercase[:10]))\n",
    "df"
   ]
  },
  {
   "cell_type": "code",
   "execution_count": 6,
   "metadata": {},
   "outputs": [
    {
     "data": {
      "image/png": "[encoded data removed]",
      "text/plain": [
       "<Figure size 432x288 with 1 Axes>"
      ]
     },
     "metadata": {
      "needs_background": "light"
     },
     "output_type": "display_data"
    }
   ],
   "source": [
    "fig, ax = plt.subplots()\n",
    "df.plot('x', 'y', kind='scatter', ax=ax,  s=120, linewidth=0,)\n",
    "\n",
    "for k, v in df.iterrows():\n",
    "    ax.annotate(k, v,size=20,  family='sans-serif', color='r',xytext=(10,-5), textcoords='offset points',)\n",
    "fig.canvas.draw()"
   ]
  },
  {
   "cell_type": "code",
   "execution_count": 7,
   "metadata": {},
   "outputs": [],
   "source": [
    "# ax = df.plot('x', 'y', kind='scatter', s=120, linewidth=0, c=range(len(df)))\n",
    "\n",
    "# def annotate_df(row):  \n",
    "#     ax.annotate(row.name, row.values,\n",
    "#                 xytext=(10,-5), \n",
    "#                 textcoords='offset points',\n",
    "#                 size=18, \n",
    "#                 color='darkslategrey')\n",
    "\n",
    "# _ = df.apply(annotate_df, axis=1)"
   ]
  },
  {
   "cell_type": "code",
   "execution_count": 8,
   "metadata": {},
   "outputs": [],
   "source": [
    "# cmap = cm.RdYlGn(np.linspace(0,1,len(df)))\n",
    "# df.plot('x', 'y', kind='scatter', ax=ax, cmap=cmap, s=120, linewidth=0, c=range(len(df)))\n",
    "\n",
    "# for k, v in df.iterrows():\n",
    "#     ax.annotate(k, v,\n",
    "#                 xytext=(10,-5), textcoords='offset points',\n",
    "#                 family='sans-serif', fontsize=18, color='darkslategrey')"
   ]
  },
  {
   "cell_type": "code",
   "execution_count": 9,
   "metadata": {},
   "outputs": [
    {
     "data": {
      "text/plain": [
       "10"
      ]
     },
     "execution_count": 9,
     "metadata": {},
     "output_type": "execute_result"
    }
   ],
   "source": [
    "len(df)"
   ]
  },
  {
   "cell_type": "code",
   "execution_count": 10,
   "metadata": {},
   "outputs": [
    {
     "data": {
      "image/png": "[encoded data removed]",
      "text/plain": [
       "<Figure size 432x288 with 1 Axes>"
      ]
     },
     "metadata": {
      "needs_background": "light"
     },
     "output_type": "display_data"
    },
    {
     "data": {
      "text/plain": [
       "4"
      ]
     },
     "execution_count": 10,
     "metadata": {},
     "output_type": "execute_result"
    }
   ],
   "source": [
    "df = pd.DataFrame({'days':[172, 200, 400, 600]})\n",
    "colors = cm.RdYlGn(np.linspace(0,1,len(df)))\n",
    "df['days'].plot(kind='barh', color=colors)\n",
    "plt.show()\n",
    "\n",
    "len(df)"
   ]
  },
  {
   "cell_type": "code",
   "execution_count": 11,
   "metadata": {},
   "outputs": [
    {
     "data": {
      "image/png": "[encoded data removed]",
      "text/plain": [
       "<Figure size 432x288 with 1 Axes>"
      ]
     },
     "metadata": {
      "needs_background": "light"
     },
     "output_type": "display_data"
    }
   ],
   "source": [
    "df = pd.DataFrame(np.random.randint(20, size=20))\n",
    "cmap = cm.get_cmap('Spectral') # Colour map (there are many others)\n",
    "\n",
    "fig, ax = plt.subplots(1)\n",
    "# Now here's the plot. range(len(df)) just makes the x values 1, 2, 3...\n",
    "# df[0] is then the y values. c sets the colours (same as y values in this\n",
    "# case). s is the marker size.\n",
    "ax.scatter(range(len(df)), df[0], c=df[0], s=120, cmap=cmap, edgecolor='None' )\n",
    "plt.show()"
   ]
  },
  {
   "cell_type": "code",
   "execution_count": null,
   "metadata": {},
   "outputs": [],
   "source": []
  },
  {
   "cell_type": "code",
   "execution_count": 14,
   "metadata": {},
   "outputs": [
    {
     "data": {
      "image/png": "[encoded data removed]",
      "text/plain": [
       "<Figure size 432x288 with 1 Axes>"
      ]
     },
     "metadata": {
      "needs_background": "light"
     },
     "output_type": "display_data"
    }
   ],
   "source": [
    "\n",
    "\n",
    "company=['google','amazon','msft','fb']\n",
    "revenue=[80,68,54,27]\n",
    "\n",
    "fig=plt.figure()\n",
    "ax=plt.subplot()\n",
    "\n",
    "xpos=np.arange(len(company))\n",
    "\n",
    "bars = plt.bar(xpos,revenue)\n",
    "\n",
    "\n",
    "annot = ax.annotate(\"\", xy=(0,0), xytext=(-20,20),textcoords=\"offset points\",\n",
    "                    bbox=dict(boxstyle=\"round\", fc=\"black\", ec=\"b\", lw=2),\n",
    "                    arrowprops=dict(arrowstyle=\"->\"))\n",
    "annot.set_visible(False)\n",
    "\n",
    "def update_annot(bar):\n",
    "    x = bar.get_x()+bar.get_width()/2.\n",
    "    y = bar.get_y()+bar.get_height()\n",
    "    annot.xy = (x,y)\n",
    "    text = \"({:.2g},{:.2g})\".format( x,y )\n",
    "    annot.set_text(text)\n",
    "    annot.get_bbox_patch().set_alpha(0.4)\n",
    "\n",
    "\n",
    "def hover(event):\n",
    "    vis = annot.get_visible()\n",
    "    if event.inaxes == ax:\n",
    "        for bar in bars:\n",
    "            cont, ind = bar.contains(event)\n",
    "            if cont:\n",
    "                update_annot(bar)\n",
    "                annot.set_visible(True)\n",
    "                fig.canvas.draw_idle()\n",
    "                return\n",
    "    if not vis:\n",
    "        annot.set_visible(True)\n",
    "        fig.canvas.draw_idle()\n",
    "\n",
    "fig.canvas.mpl_connect(\"motion_notify_event\", hover)\n",
    "\n",
    "plt.show()"
   ]
  },
  {
   "cell_type": "code",
   "execution_count": null,
   "metadata": {},
   "outputs": [],
   "source": []
  }
 ],
 "metadata": {
  "kernelspec": {
   "display_name": "Python 3",
   "language": "python",
   "name": "python3"
  },
  "language_info": {
   "codemirror_mode": {
    "name": "ipython",
    "version": 3
   },
   "file_extension": ".py",
   "mimetype": "text/x-python",
   "name": "python",
   "nbconvert_exporter": "python",
   "pygments_lexer": "ipython3",
   "version": "3.7.0"
  }
 },
 "nbformat": 4,
 "nbformat_minor": 2
}
