{
 "cells": [
  {
   "cell_type": "code",
   "execution_count": 8,
   "metadata": {},
   "outputs": [],
   "source": [
    "import os\n",
    "import pandas as pd\n",
    "import shutil\n",
    "\n",
    "# Get all files from directory Resources\n",
    "output_path = os.path.join(\".\", \"Output\", \"resouce_output.txt\")\n"
   ]
  },
  {
   "cell_type": "code",
   "execution_count": 9,
   "metadata": {},
   "outputs": [],
   "source": [
    "def check_dir(_file_path, _type):\n",
    "    output_dir = os.path.split(_file_path)[0]\n",
    "    if not os.path.exists(output_dir):\n",
    "        exist = False\n",
    "    else:\n",
    "        exist = True\n",
    "        \n",
    "    if _type == \"c\":\n",
    "        if not exist:\n",
    "            os.makedirs(output_dir)\n",
    "        return True\n",
    "    elif _type == \"d\":\n",
    "        if exist:\n",
    "            shutil.rmtree(output_dir)\n",
    "        return False\n",
    "    else:\n",
    "        return exist"
   ]
  },
  {
   "cell_type": "code",
   "execution_count": 10,
   "metadata": {},
   "outputs": [],
   "source": [
    "# Try to remove tree; if failed show an error using try...except on screen\n",
    "try:\n",
    "        check_dir(output_path, \"d\")       \n",
    "        \n",
    "except OSError as e:\n",
    "    print (\"Error: %s - %s.\" % (e.filename, e.strerror))"
   ]
  },
  {
   "cell_type": "code",
   "execution_count": null,
   "metadata": {},
   "outputs": [],
   "source": []
  }
 ],
 "metadata": {
  "kernelspec": {
   "display_name": "Python 3",
   "language": "python",
   "name": "python3"
  },
  "language_info": {
   "codemirror_mode": {
    "name": "ipython",
    "version": 3
   },
   "file_extension": ".py",
   "mimetype": "text/x-python",
   "name": "python",
   "nbconvert_exporter": "python",
   "pygments_lexer": "ipython3",
   "version": "3.7.0"
  }
 },
 "nbformat": 4,
 "nbformat_minor": 2
}
