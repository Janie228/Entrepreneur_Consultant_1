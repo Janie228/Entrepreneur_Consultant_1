{
 "cells": [
  {
   "cell_type": "code",
   "execution_count": 3,
   "metadata": {},
   "outputs": [],
   "source": [
    "import os\n",
    "import csv\n",
    "import zipfile\n",
    "import pandas as pd\n",
    "import re\n",
    "\n",
    "\n",
    "# Directory Path\n",
    "zip_path = \"./Zip/Zip/CIUS2015downloadablefiles/\"\n"
   ]
  },
  {
   "cell_type": "code",
   "execution_count": 4,
   "metadata": {},
   "outputs": [
    {
     "name": "stdout",
     "output_type": "stream",
     "text": [
      "ACS_09_5YR_S0102.zip\n",
      "Item Path: ./Zip/Zip/CIUS2015downloadablefiles/ACS_09_5YR_S0102.zip\n",
      "Parent FOlder: ./Zip/Zip/CIUS2015downloadablefiles\n",
      "Output Folder: ./Zip/Zip/CIUS2015downloadablefiles/ACS_09_5YR_S0102\n",
      "./Zip/Zip/CIUS2015downloadablefiles\\./Zip/Zip/CIUS2015downloadablefiles/ACS_09_5YR_S0102\n",
      "CIUS2015datadeclarations_overviews\n",
      "CIUS2015datatables\n",
      "CIUS2015figures\n",
      "CIUS2015topic_resource_additionalreprot_pages\n",
      "Zip\n"
     ]
    }
   ],
   "source": [
    "# loop through items in dir\n",
    "for item in os.listdir(zip_path): \n",
    "    print(item)\n",
    "    # check for \".zip\" extension\n",
    "    if item.endswith(\".zip\"): \n",
    "        # get full path of files\n",
    "#         file_name = os.path.abspath(item) \n",
    "#         print(file_name)\n",
    "        abs_file_path = os.path.join(zip_path, item)  \n",
    "        print(f'Item Path: {abs_file_path}')\n",
    "        parent_path = os.path.split(abs_file_path)[0]\n",
    "        print(f'Parent FOlder: {parent_path}')\n",
    "        output_folder_name = os.path.splitext(abs_file_path)[0]\n",
    "        print(f'Output Folder: {output_folder_name}')\n",
    "        output_path = os.path.join(parent_path, output_folder_name)\n",
    "        print(output_path)\n",
    "        # Unzip inside the parent folder with the same name\n",
    "        zip_obj = zipfile.ZipFile(abs_file_path, 'r')\n",
    "        zip_obj.extractall(output_folder_name)\n",
    "        zip_obj.close()\n",
    "            \n"
   ]
  },
  {
   "cell_type": "code",
   "execution_count": null,
   "metadata": {},
   "outputs": [],
   "source": [
    "\n"
   ]
  },
  {
   "cell_type": "code",
   "execution_count": null,
   "metadata": {},
   "outputs": [],
   "source": []
  }
 ],
 "metadata": {
  "kernelspec": {
   "display_name": "Python 3",
   "language": "python",
   "name": "python3"
  },
  "language_info": {
   "codemirror_mode": {
    "name": "ipython",
    "version": 3
   },
   "file_extension": ".py",
   "mimetype": "text/x-python",
   "name": "python",
   "nbconvert_exporter": "python",
   "pygments_lexer": "ipython3",
   "version": "3.7.0"
  }
 },
 "nbformat": 4,
 "nbformat_minor": 2
}
