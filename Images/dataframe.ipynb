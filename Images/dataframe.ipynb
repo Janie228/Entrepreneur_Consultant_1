{
 "cells": [
  {
   "cell_type": "code",
   "execution_count": 1,
   "metadata": {
    "collapsed": false
   },
   "outputs": [],
   "source": [
    "%matplotlib inline"
   ]
  },
  {
   "cell_type": "markdown",
   "metadata": {},
   "source": [
    "\n",
    "Extracting data and labels from a :class:`~pandas.DataFrame`\n",
    "============================================================\n",
    "\n",
    ":class:`~pandas.DataFrame`\\s can be used similarly to any other kind of input.\n",
    "Here, we generate a scatter plot using two columns and label the points using\n",
    "a third column.\n",
    "\n"
   ]
  },
  {
   "cell_type": "code",
   "execution_count": 2,
   "metadata": {
    "collapsed": false
   },
   "outputs": [
    {
     "data": {
      "image/png": "[encoded data removed]",
      "text/plain": [
       "<Figure size 432x288 with 1 Axes>"
      ]
     },
     "metadata": {
      "needs_background": "light"
     },
     "output_type": "display_data"
    }
   ],
   "source": [
    "from matplotlib import pyplot as plt\n",
    "import mplcursors\n",
    "from pandas import DataFrame\n",
    "import numpy as np\n",
    "\n",
    "\n",
    "df = DataFrame(\n",
    "    [(\"Alice\", 163, 54),\n",
    "     (\"Bob\", 174, 67),\n",
    "     (\"Charlie\", 177, 73),\n",
    "     (\"Diane\", 168, 57)],\n",
    "    columns=[\"name\", \"height\", \"weight\"])\n",
    "\n",
    "df.plot.scatter(\"height\", \"weight\")\n",
    "mplcursors.cursor().connect(\n",
    "    \"add\", lambda sel: sel.annotation.set_text(df[\"name\"][sel.target.index]))\n",
    "plt.show()\n",
    "\n",
    "# test: skip"
   ]
  },
  {
   "cell_type": "code",
   "execution_count": null,
   "metadata": {},
   "outputs": [],
   "source": [
    "\n",
    "\n",
    "data = np.outer(range(10), range(1, 5))\n",
    "\n",
    "fig, ax = plt.subplots()\n",
    "lines = ax.plot(data)\n",
    "ax.set_title(\"Click somewhere on a line.\\nRight-click to deselect.\\n\"\n",
    "             \"Annotations can be dragged.\")\n",
    "\n",
    "mplcursors.cursor(lines) # or just mplcursors.cursor()\n",
    "\n",
    "plt.show()"
   ]
  }
 ],
 "metadata": {
  "kernelspec": {
   "display_name": "Python 3",
   "language": "python",
   "name": "python3"
  },
  "language_info": {
   "codemirror_mode": {
    "name": "ipython",
    "version": 3
   },
   "file_extension": ".py",
   "mimetype": "text/x-python",
   "name": "python",
   "nbconvert_exporter": "python",
   "pygments_lexer": "ipython3",
   "version": "3.7.0"
  }
 },
 "nbformat": 4,
 "nbformat_minor": 2
}
