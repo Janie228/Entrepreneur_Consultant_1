{
 "cells": [
  {
   "cell_type": "code",
   "execution_count": 1,
   "metadata": {},
   "outputs": [],
   "source": [
    "import os\n",
    "import csv\n",
    "import zipfile\n",
    "import pandas as pd\n",
    "\n",
    "\n",
    "# Directories & output file\n",
    "zip_path = \"./Zip/Zip\"\n",
    "out_path = \"./Zip/Output/\"\n",
    "output_file = os.path.join(\"resource_zip.txt\")\n",
    "# Get zip files from directory \n",
    "zipList = [x for x in os.listdir(zip_path) if x.endswith(\".zip\")]\n"
   ]
  },
  {
   "cell_type": "code",
   "execution_count": 2,
   "metadata": {},
   "outputs": [
    {
     "name": "stdout",
     "output_type": "stream",
     "text": [
      "C:\\Users\\Janie228\\school\\rutgers\\Projects\\Project_I\\Dataset\n"
     ]
    }
   ],
   "source": [
    "print(os.getcwd())"
   ]
  },
  {
   "cell_type": "code",
   "execution_count": 5,
   "metadata": {},
   "outputs": [],
   "source": [
    "# Open output file\n",
    "with open(out_path + output_file, \"w\", newline=\"\") as xfile:\n",
    "    # Loop thru the zip files list & get info and write to list\n",
    "    for zip in zipList:\n",
    "        try:\n",
    "            xfile.write(f'***********************************************************************\\n')\n",
    "            xfile.write(zip + \"\\n\")\n",
    "\n",
    "            zf = zipfile.ZipFile(f'{zip_path}{zip}') \n",
    "            xfile.write(str(zipfile.ZipFile.namelist(zf)) + \"\\n\")\n",
    "            xfile.write(f'**************************************\\n')\n",
    "            i = 5\n",
    "            for x in zf.infolist():\n",
    "                if x.filename.endswith('.csv'):\n",
    "                    xfile.write(f'###{x.filename}###\\n')\n",
    "                    df = pd.read_csv(zf.open(x), header=0, skip_blank_lines=True)\n",
    "                                     #low_memory=False) \n",
    "                    if \"metadata\" in x.filename:\n",
    "                        # Print 1st 4 rows and 2 columns\n",
    "                        xfile.write(str(df.iloc[0:3,0:2]))\n",
    "                    else:\n",
    "                        # Print 1st 4 rows and 5 columns\n",
    "                        xfile.write(str(df.iloc[0:3,0:4]))\n",
    "\n",
    "                elif x.filename.endswith('.txt'):\n",
    "                    xfile.write(f'###{x.filename}###\\n')\n",
    "                    with zf.open(x) as page:\n",
    "                        for line in page:\n",
    "                            if i > 0:\n",
    "                                xfile.write(str(line.strip()) + \"\\n\")\n",
    "                                i -= 1\n",
    "                            else:\n",
    "                                break\n",
    "                xfile.write(f'\\n---------------------------------\\n')\n",
    "        except:\n",
    "            print(\"Error occurs\")\n",
    "            continue"
   ]
  },
  {
   "cell_type": "code",
   "execution_count": 3,
   "metadata": {},
   "outputs": [
    {
     "name": "stdout",
     "output_type": "stream",
     "text": [
      "\n"
     ]
    }
   ],
   "source": [
    "    \n",
    "#Open output file & print result\n",
    "print(open(out_path + output_file).read())"
   ]
  },
  {
   "cell_type": "code",
   "execution_count": null,
   "metadata": {},
   "outputs": [],
   "source": []
  }
 ],
 "metadata": {
  "kernelspec": {
   "display_name": "Python 3",
   "language": "python",
   "name": "python3"
  },
  "language_info": {
   "codemirror_mode": {
    "name": "ipython",
    "version": 3
   },
   "file_extension": ".py",
   "mimetype": "text/x-python",
   "name": "python",
   "nbconvert_exporter": "python",
   "pygments_lexer": "ipython3",
   "version": "3.7.0"
  }
 },
 "nbformat": 4,
 "nbformat_minor": 2
}
